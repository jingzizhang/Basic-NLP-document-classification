{
 "cells": [
  {
   "cell_type": "code",
   "execution_count": 235,
   "metadata": {
    "collapsed": false
   },
   "outputs": [],
   "source": [
    "%matplotlib inline\n",
    "\n",
    "import time\n",
    "import functools\n",
    "import sqlite3\n",
    "import pandas as pd\n",
    "import numpy as np\n",
    "import nltk\n",
    "import string\n",
    "import matplotlib.pyplot as plt\n",
    "import scipy\n",
    "import scipy.sparse as sparse\n",
    "import matplotlib.pyplot as plt\n",
    "from numpy import linalg, dot, array\n",
    "\n",
    "\n",
    "from sklearn.datasets import fetch_20newsgroups\n",
    "from sklearn.feature_extraction.text import TfidfTransformer\n",
    "from sklearn.feature_extraction.text import CountVectorizer\n",
    "from sklearn.feature_extraction.text import TfidfVectorizer\n",
    "from sklearn.model_selection import train_test_split\n",
    "from sklearn.metrics import confusion_matrix\n",
    "from sklearn import metrics\n",
    "from nltk.corpus import stopwords\n",
    "from sklearn.naive_bayes import BernoulliNB\n",
    "from sklearn import linear_model\n",
    "from sklearn.tree import DecisionTreeClassifier\n",
    "from sklearn.decomposition import TruncatedSVD\n",
    "from sklearn.metrics import recall_score\n",
    "from sklearn.model_selection import train_test_split\n",
    "\n",
    "\n",
    "##binary classification of comp and rec\n",
    "categories = ['comp.graphics','comp.os.ms-windows.misc', 'comp.sys.ibm.pc.hardware', 'comp.sys.mac.hardware','rec.autos', 'rec.motorcycles','rec.sport.baseball','rec.sport.hockey']\n",
    "eight_train = fetch_20newsgroups(subset='train',categories=categories, shuffle=True, random_state=42)\n",
    "eight_test = fetch_20newsgroups(subset='test',categories=categories, shuffle=True, random_state=42)\n"
   ]
  },
  {
   "cell_type": "code",
   "execution_count": 236,
   "metadata": {
    "collapsed": false
   },
   "outputs": [
    {
     "data": {
      "text/plain": [
       "['comp.graphics',\n",
       " 'comp.os.ms-windows.misc',\n",
       " 'comp.sys.ibm.pc.hardware',\n",
       " 'comp.sys.mac.hardware',\n",
       " 'rec.autos',\n",
       " 'rec.motorcycles',\n",
       " 'rec.sport.baseball',\n",
       " 'rec.sport.hockey']"
      ]
     },
     "execution_count": 236,
     "metadata": {},
     "output_type": "execute_result"
    }
   ],
   "source": [
    "eight_train.target_names"
   ]
  },
  {
   "cell_type": "code",
   "execution_count": 237,
   "metadata": {
    "collapsed": false
   },
   "outputs": [
    {
     "data": {
      "text/plain": [
       "{0, 1, 2, 3, 4, 5, 6, 7}"
      ]
     },
     "execution_count": 237,
     "metadata": {},
     "output_type": "execute_result"
    }
   ],
   "source": [
    "set(eight_train.target)"
   ]
  },
  {
   "cell_type": "code",
   "execution_count": 238,
   "metadata": {
    "collapsed": false
   },
   "outputs": [
    {
     "data": {
      "text/plain": [
       "(array([ 591.,  590.,  578.,  594.,  598.,  597.,  600.]),\n",
       " array([1, 2, 3, 4, 5, 6, 7, 8]),\n",
       " <a list of 7 Patch objects>)"
      ]
     },
     "execution_count": 238,
     "metadata": {},
     "output_type": "execute_result"
    },
    {
     "data": {
      "image/png": "[encoded data removed]",
      "text/plain": [
       "<matplotlib.figure.Figure at 0x10940f438>"
      ]
     },
     "metadata": {},
     "output_type": "display_data"
    }
   ],
   "source": [
    "plt.hist(eight_train.target,bins=[1,2,3,4,5,6,7,8])"
   ]
  },
  {
   "cell_type": "code",
   "execution_count": 239,
   "metadata": {
    "collapsed": false
   },
   "outputs": [
    {
     "data": {
      "text/plain": [
       "(array([ 394.,  392.,  385.,  396.,  398.,  397.,  399.]),\n",
       " array([1, 2, 3, 4, 5, 6, 7, 8]),\n",
       " <a list of 7 Patch objects>)"
      ]
     },
     "execution_count": 239,
     "metadata": {},
     "output_type": "execute_result"
    },
    {
     "data": {
      "image/png": "[encoded data removed]",
      "text/plain": [
       "<matplotlib.figure.Figure at 0x108a048d0>"
      ]
     },
     "metadata": {},
     "output_type": "display_data"
    }
   ],
   "source": [
    "plt.hist(eight_test.target,bins=[1,2,3,4,5,6,7,8])"
   ]
  },
  {
   "cell_type": "markdown",
   "metadata": {},
   "source": [
    "### preprocessing"
   ]
  },
  {
   "cell_type": "code",
   "execution_count": 240,
   "metadata": {
    "collapsed": false
   },
   "outputs": [],
   "source": [
    "lemmatizer = nltk.WordNetLemmatizer()\n",
    "stop = stopwords.words('english')\n",
    "stop = stop+(list(string.ascii_lowercase)) + list(string.digits)\n",
    "translation_punc = str.maketrans(string.punctuation,' '*len(string.punctuation))\n"
   ]
  },
  {
   "cell_type": "code",
   "execution_count": 243,
   "metadata": {
    "collapsed": true
   },
   "outputs": [],
   "source": [
    "def preprocessing(line: str) -> str:\n",
    "    line = str(line).translate(translation_punc)\n",
    "\n",
    "    line = nltk.word_tokenize(line.lower())\n",
    "    \n",
    "    line = [lemmatizer.lemmatize(t,'v') for t in line if t not in stop]\n",
    "    return ' '.join(line)"
   ]
  },
  {
   "cell_type": "code",
   "execution_count": 244,
   "metadata": {
    "collapsed": false
   },
   "outputs": [
    {
     "data": {
      "text/plain": [
       "'like books1234'"
      ]
     },
     "execution_count": 244,
     "metadata": {},
     "output_type": "execute_result"
    }
   ],
   "source": [
    "preprocessing('I liked this books1234!!!!! w q g 1 2')"
   ]
  },
  {
   "cell_type": "code",
   "execution_count": 245,
   "metadata": {
    "collapsed": true
   },
   "outputs": [],
   "source": [
    "train_data = list(map(preprocessing, eight_train.data))\n",
    "test_data = list(map(preprocessing, eight_test.data))"
   ]
  },
  {
   "cell_type": "code",
   "execution_count": 299,
   "metadata": {
    "collapsed": false
   },
   "outputs": [],
   "source": [
    "#nltk.word_tokenize(train_data[0])"
   ]
  },
  {
   "cell_type": "code",
   "execution_count": 247,
   "metadata": {
    "collapsed": false
   },
   "outputs": [
    {
     "name": "stdout",
     "output_type": "stream",
     "text": [
      "<FreqDist with 72296 samples and 849170 outcomes>\n"
     ]
    }
   ],
   "source": [
    "tokens_train = [word for line in train_data \\\n",
    "               for word in nltk.word_tokenize(line)]\n",
    "\n",
    "word_features = nltk.FreqDist(tokens_train)\n",
    "print(word_features)"
   ]
  },
  {
   "cell_type": "code",
   "execution_count": 248,
   "metadata": {
    "collapsed": false
   },
   "outputs": [
    {
     "data": {
      "text/plain": [
       "[('ax', 62401),\n",
       " ('edu', 8552),\n",
       " ('line', 5456),\n",
       " ('subject', 4946),\n",
       " ('organization', 4708),\n",
       " ('max', 4596),\n",
       " ('com', 4456),\n",
       " ('write', 3677),\n",
       " ('get', 3492),\n",
       " ('use', 3082)]"
      ]
     },
     "execution_count": 248,
     "metadata": {},
     "output_type": "execute_result"
    }
   ],
   "source": [
    "word_features.most_common(10)"
   ]
  },
  {
   "cell_type": "code",
   "execution_count": 249,
   "metadata": {
    "collapsed": true
   },
   "outputs": [],
   "source": [
    "topwords = [fpair[0] for fpair in list(word_features.most_common(10000))]"
   ]
  },
  {
   "cell_type": "code",
   "execution_count": 250,
   "metadata": {
    "collapsed": false
   },
   "outputs": [],
   "source": [
    "tf_vec = TfidfVectorizer()\n",
    "tf_fit = tf_vec.fit_transform([' '.join(topwords)])\n",
    "tf_fit\n",
    "x_train_tfidf = tf_vec.transform(train_data)\n",
    "x_train_tfidf\n",
    "x_test_tfidf = tf_vec.transform(test_data)\n"
   ]
  },
  {
   "cell_type": "code",
   "execution_count": 251,
   "metadata": {
    "collapsed": true
   },
   "outputs": [],
   "source": [
    "tf_vec = TfidfVectorizer()\n",
    "x_train_tfidf = tf_vec.fit_transform(train_data)\n",
    "x_test_tfidf = tf_vec.transform(test_data)\n"
   ]
  },
  {
   "cell_type": "code",
   "execution_count": 300,
   "metadata": {
    "collapsed": false
   },
   "outputs": [],
   "source": [
    "#tf_vec.vocabulary_"
   ]
  },
  {
   "cell_type": "markdown",
   "metadata": {},
   "source": [
    "### Feature Selection LSA"
   ]
  },
  {
   "cell_type": "code",
   "execution_count": 289,
   "metadata": {
    "collapsed": false
   },
   "outputs": [],
   "source": [
    "svd = TruncatedSVD(n_components=50, algorithm='randomized', \n",
    "            n_iter=5, random_state=42, tol=0.0)"
   ]
  },
  {
   "cell_type": "code",
   "execution_count": 293,
   "metadata": {
    "collapsed": false
   },
   "outputs": [],
   "source": [
    "M_train_new = svd.fit_transform(x_train_tfidf)\n",
    "M_test_new = svd.transform(x_test_tfidf)\n"
   ]
  },
  {
   "cell_type": "code",
   "execution_count": 294,
   "metadata": {
    "collapsed": false
   },
   "outputs": [
    {
     "data": {
      "text/plain": [
       "(3150, 50)"
      ]
     },
     "execution_count": 294,
     "metadata": {},
     "output_type": "execute_result"
    }
   ],
   "source": [
    "M_train_new.shape\n",
    "M_test_new.shape"
   ]
  },
  {
   "cell_type": "markdown",
   "metadata": {},
   "source": [
    "### SVM"
   ]
  },
  {
   "cell_type": "code",
   "execution_count": 295,
   "metadata": {
    "collapsed": false
   },
   "outputs": [
    {
     "name": "stdout",
     "output_type": "stream",
     "text": [
      "precision:0.978\n",
      "recall:0.957\n",
      "accuracy:0.968\n",
      "confusion matrix:\n",
      "[[1556   34]\n",
      " [  67 1493]]\n"
     ]
    },
    {
     "data": {
      "image/png": "[encoded data removed]",
      "text/plain": [
       "<matplotlib.figure.Figure at 0x1308024e0>"
      ]
     },
     "metadata": {},
     "output_type": "display_data"
    }
   ],
   "source": [
    "from sklearn import svm\n",
    "\n",
    "categories1 =['comp.graphics','comp.os.ms-windows.misc','comp.sys.ibm.pc.hardware','comp.sys.mac.hardware']\n",
    "categories2 =['rec.autos','rec.motorcycles', 'rec.sport.baseball' ,'rec.sport.hockey']\n",
    "\n",
    "train_target = [];\n",
    "test_target = [];\n",
    "for i in eight_train.target:\n",
    "    if eight_train.target_names[i] in categories1 :\n",
    "        train_target.append(1);\n",
    "    else:\n",
    "        train_target.append(-1);\n",
    "    \n",
    "for i in eight_test.target:\n",
    "    if eight_test.target_names[i] in categories1 :\n",
    "        test_target.append(1);\n",
    "    else:\n",
    "        test_target.append(-1);\n",
    "\n",
    "clf = svm.LinearSVC(penalty='l2', loss='squared_hinge', dual=True, \n",
    "                    tol=0.0001, C=1, multi_class='ovr', fit_intercept=True, \n",
    "                    intercept_scaling=1, class_weight=None, verbose=0, \n",
    "                    random_state=1, max_iter=1000)\n",
    "clf.fit(M_train_new, train_target)\n",
    "m_decision=clf.decision_function(M_test_new)\n",
    "P = clf.predict(M_test_new)\n",
    "\n",
    "fpr, tpr, thresholds = metrics.roc_curve(test_target, m_decision)\n",
    "\n",
    "m_precision = metrics.precision_score(test_target,P)\n",
    "m_recall = metrics.recall_score(test_target,P)\n",
    "m_accuracy = metrics.accuracy_score(test_target,P)\n",
    "m_confusion_matrix = metrics.confusion_matrix(test_target,P)\n",
    "print ('precision:{0:.3f}'.format(m_precision))\n",
    "print ('recall:{0:0.3f}'.format(m_recall))\n",
    "print ('accuracy:{0:0.3f}'.format(m_accuracy))\n",
    "print ('confusion matrix:\\n{}'.format(m_confusion_matrix))\n",
    "\n",
    "import matplotlib.pyplot as plt\n",
    "\n",
    "plt.figure()\n",
    "plt.plot(fpr, tpr)\n",
    "plt.xlim([0.0, 1.0])\n",
    "plt.ylim([0.0, 1.05])\n",
    "plt.xlabel('False Positive Rate')\n",
    "plt.ylabel('True Positive Rate')\n",
    "plt.title('Linear SVM ROC CURVE')\n",
    "plt.show()\n",
    "\n"
   ]
  },
  {
   "cell_type": "markdown",
   "metadata": {},
   "source": [
    "### Naive Bayesian"
   ]
  },
  {
   "cell_type": "code",
   "execution_count": 221,
   "metadata": {
    "collapsed": false
   },
   "outputs": [
    {
     "name": "stdout",
     "output_type": "stream",
     "text": [
      "Multinomial NB model trained in 0.016266 seconds\n",
      "[ 1  1  1 ..., -1  1  1]\n",
      "0.976825396825\n",
      "             precision    recall  f1-score   support\n",
      "\n",
      "         -1       0.96      0.99      0.98      1590\n",
      "          1       0.99      0.96      0.98      1560\n",
      "\n",
      "avg / total       0.98      0.98      0.98      3150\n",
      "\n"
     ]
    }
   ],
   "source": [
    "from sklearn.naive_bayes import MultinomialNB\n",
    "mnb_model = MultinomialNB()\n",
    "mnb_model\n",
    "# Train Model\n",
    "start = time.time()\n",
    "mnb_model.fit(x_train_tfidf, train_target)\n",
    "end = time.time()\n",
    "\n",
    "print(\"Multinomial NB model trained in %f seconds\" % (end-start))\n",
    "# Predict\n",
    "pred = mnb_model.predict(x_test_tfidf)\n",
    "print(pred)\n",
    "\n",
    "# Metrics\n",
    "# metrics.accuracy_score(y_true, y_pred)\n",
    "accuracy = metrics.accuracy_score(pred,test_target)\n",
    "print(accuracy)\n",
    "\n",
    "print(metrics.classification_report(y_true=test_target, y_pred=pred))"
   ]
  },
  {
   "cell_type": "code",
   "execution_count": 200,
   "metadata": {
    "collapsed": false
   },
   "outputs": [
    {
     "data": {
      "text/plain": [
       "(4732, 45543)"
      ]
     },
     "execution_count": 200,
     "metadata": {},
     "output_type": "execute_result"
    }
   ],
   "source": [
    "x_train_tfidf.shape"
   ]
  },
  {
   "cell_type": "code",
   "execution_count": 298,
   "metadata": {
    "collapsed": false
   },
   "outputs": [
    {
     "data": {
      "image/png": "[encoded data removed]",
      "text/plain": [
       "<matplotlib.figure.Figure at 0x130083630>"
      ]
     },
     "metadata": {},
     "output_type": "display_data"
    }
   ],
   "source": [
    "y_score = mnb_model.predict_proba(x_test_tfidf)\n",
    "fpr2, tpr2, thresholds = metrics.roc_curve(test_target, y_score[:,1])\n",
    "\n",
    "plt.figure()\n",
    "plt.plot(fpr2, tpr2,fpr,tpr)\n",
    "plt.xlim([0.0, 1.0])\n",
    "plt.ylim([0.0, 1.05])\n",
    "plt.xlabel('False Positive Rate')\n",
    "plt.ylabel('True Positive Rate')\n",
    "plt.title('ROC CURVE')\n",
    "plt.legend(['naive bayes','svm'])\n",
    "plt.show()"
   ]
  },
  {
   "cell_type": "code",
   "execution_count": null,
   "metadata": {
    "collapsed": true
   },
   "outputs": [],
   "source": []
  }
 ],
 "metadata": {
  "kernelspec": {
   "display_name": "Python 3",
   "language": "python",
   "name": "python3"
  },
  "language_info": {
   "codemirror_mode": {
    "name": "ipython",
    "version": 3
   },
   "file_extension": ".py",
   "mimetype": "text/x-python",
   "name": "python",
   "nbconvert_exporter": "python",
   "pygments_lexer": "ipython3",
   "version": "3.5.3"
  }
 },
 "nbformat": 4,
 "nbformat_minor": 2
}
